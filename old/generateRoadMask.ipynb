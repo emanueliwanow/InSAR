{
 "cells": [
  {
   "cell_type": "code",
   "execution_count": 2,
   "id": "70ab718b",
   "metadata": {},
   "outputs": [
    {
     "name": "stdout",
     "output_type": "stream",
     "text": [
      "Saved road_roi_mask.h5 with shape (28, 53), keep_fraction=0.1260\n"
     ]
    }
   ],
   "source": [
    "import h5py, numpy as np, geopandas as gpd\n",
    "from shapely.geometry import LineString\n",
    "from shapely.ops import unary_union\n",
    "from shapely import wkb\n",
    "from shapely.affinity import scale\n",
    "from shapely import ops\n",
    "from shapely.geometry import Polygon\n",
    "from shapely import wkt\n",
    "\n",
    "# ---- USER INPUTS ----\n",
    "lat1, lon1 = -3.276522910174481, -59.85548776356948\n",
    "lat2, lon2 = -3.274225103078294, -59.85389804800792\n",
    "buffer_m   = 15                      # half-width of road in meters (tune!)\n",
    "geom_h5    = \"/insar-data/Curaca/miaplpy/network_delaunay_4/inputs/geometryRadar.h5\"       # radar-grid geometry H5 (lat/lon arrays)\n",
    "lat_key    = \"latitude\"               # dataset name for latitude\n",
    "lon_key    = \"longitude\"              # dataset name for longitude\n",
    "out_h5     = \"road_roi_mask.h5\"       # output mask (1=keep, 0=drop)\n",
    "# ----------------------\n",
    "\n",
    "# 1) Build a 2-point line in WGS84 (EPSG:4326)\n",
    "line_wgs84 = LineString([(lon1, lat1), (lon2, lat2)])  # NOTE: (lon, lat) order\n",
    "\n",
    "# 2) Buffer in meters: reproject to local UTM, buffer, reproject back to WGS84\n",
    "gdf = gpd.GeoDataFrame(geometry=[line_wgs84], crs=4326)\n",
    "utm = gdf.estimate_utm_crs()          # picks a sensible UTM zone for the line\n",
    "gdf_utm = gdf.to_crs(utm)\n",
    "\n",
    "# Flat ends (cap_style=2) are nice for straight road segments; use 1 for round\n",
    "poly_utm = gdf_utm.buffer(buffer_m, cap_style=2).unary_union\n",
    "poly_wgs84 = gpd.GeoSeries([poly_utm], crs=utm).to_crs(4326).iloc[0]\n",
    "\n",
    "# 3) Load radar-grid lat/lon arrays (same shape as your processing grid)\n",
    "with h5py.File(geom_h5, \"r\") as f:\n",
    "    lat = f[lat_key][:]\n",
    "    lon = f[lon_key][:]\n",
    "\n",
    "ny, nx = lat.shape\n",
    "assert lon.shape == (ny, nx), \"lat/lon shape mismatch\"\n",
    "\n",
    "# 4) Vectorized point-in-polygon: True where pixel center falls inside road buffer\n",
    "try:\n",
    "    from shapely.vectorized import contains\n",
    "    mask_bool = contains(poly_wgs84, lon, lat)   # (ny, nx) boolean array\n",
    "except Exception:\n",
    "    # Fallback using matplotlib.path if shapely.vectorized is unavailable\n",
    "    import matplotlib.path as mpltPath\n",
    "    # Get polygon exterior ring (in lon/lat)\n",
    "    x, y = np.array(poly_wgs84.exterior.coords).T\n",
    "    path = mpltPath.Path(np.column_stack([x, y]))\n",
    "    mask_bool = path.contains_points(np.column_stack([lon.ravel(), lat.ravel()])).reshape(ny, nx)\n",
    "\n",
    "mask = mask_bool.astype(\"uint8\")  # 1=keep, 0=drop\n",
    "\n",
    "# 5) Save HDF5 mask alongside shape-compatible dataset name \"mask\"\n",
    "with h5py.File(out_h5, \"w\") as f:\n",
    "    f.create_dataset(\"mask\", data=mask, compression=\"gzip\")\n",
    "\n",
    "print(f\"Saved {out_h5} with shape {mask.shape}, keep_fraction={mask.mean():.4f}\")\n"
   ]
  },
  {
   "cell_type": "code",
   "execution_count": 3,
   "id": "458fc270",
   "metadata": {},
   "outputs": [
    {
     "name": "stdout",
     "output_type": "stream",
     "text": [
      "Patched HDF5 attrs: WIDTH, LENGTH (and WIDHT) set.\n"
     ]
    }
   ],
   "source": [
    "import h5py, numpy as np\n",
    "\n",
    "path = \"road_roi_mask.h5\"   # your mask file\n",
    "dset_name = \"mask\"          # dataset we wrote earlier\n",
    "\n",
    "with h5py.File(path, \"r+\") as f:\n",
    "    d = f[dset_name]\n",
    "    ny, nx = d.shape\n",
    "\n",
    "    # Put attrs on BOTH the file root and the dataset (some readers check one or the other)\n",
    "    for obj in (f, d):\n",
    "        obj.attrs[\"WIDTH\"]  = np.int32(nx)\n",
    "        obj.attrs[\"LENGTH\"] = np.int32(ny)\n",
    "        obj.attrs[\"DATA_TYPE\"] = \"uint8\"\n",
    "        obj.attrs[\"FILE_TYPE\"] = \"mask\"\n",
    "        # Workaround for versions that accidentally look for WIDHT (typo)\n",
    "        obj.attrs[\"WIDHT\"] = np.int32(nx)\n",
    "\n",
    "print(\"Patched HDF5 attrs: WIDTH, LENGTH (and WIDHT) set.\")"
   ]
  },
  {
   "cell_type": "code",
   "execution_count": null,
   "id": "cf65da56",
   "metadata": {},
   "outputs": [],
   "source": []
  }
 ],
 "metadata": {
  "kernelspec": {
   "display_name": "insar_env",
   "language": "python",
   "name": "python3"
  },
  "language_info": {
   "codemirror_mode": {
    "name": "ipython",
    "version": 3
   },
   "file_extension": ".py",
   "mimetype": "text/x-python",
   "name": "python",
   "nbconvert_exporter": "python",
   "pygments_lexer": "ipython3",
   "version": "3.9.18"
  }
 },
 "nbformat": 4,
 "nbformat_minor": 5
}
